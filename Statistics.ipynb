{
 "cells": [
  {
   "cell_type": "code",
   "execution_count": 40,
   "metadata": {},
   "outputs": [
    {
     "name": "stdout",
     "output_type": "stream",
     "text": [
      "[(2, 4), (1, 3), (0, 2)]\n"
     ]
    }
   ],
   "source": [
    "from collections import Counter\n",
    "from math import sqrt # 导入开根的函数\n",
    "\n",
    "# 测试频数\n",
    "data = [2,2,2,2,1,1,1,0,0]\n",
    "counter = Counter(data)\n",
    "print(counter.most_common())"
   ]
  },
  {
   "cell_type": "code",
   "execution_count": 3,
   "metadata": {},
   "outputs": [],
   "source": [
    "# 创建[频率]函数\n",
    "def frequency(data):\n",
    "    # 频率\n",
    "    counter = Counter(data)\n",
    "    ret = []\n",
    "    for point in counter.most_common():\n",
    "        ret.append((point[0],point[1]/len(data)))\n",
    "    return ret"
   ]
  },
  {
   "cell_type": "code",
   "execution_count": 4,
   "metadata": {},
   "outputs": [
    {
     "name": "stdout",
     "output_type": "stream",
     "text": [
      "[(2, 0.4444444444444444), (1, 0.3333333333333333), (0, 0.2222222222222222)]\n"
     ]
    }
   ],
   "source": [
    "# 测试频率\n",
    "freq = frequency(data)\n",
    "print(freq)"
   ]
  },
  {
   "cell_type": "code",
   "execution_count": 1,
   "metadata": {},
   "outputs": [],
   "source": [
    "# 创建[众数]函数\n",
    "def mode(data):\n",
    "    counter = Counter(data)\n",
    "    # 如果[频率]为1，则说明没有众数\n",
    "    if counter.most_common()[0][1] == 1:\n",
    "        return None,None\n",
    "    \n",
    "    # 取到众数，most_common会降序排序\n",
    "    count = counter.most_common()[0][1]\n",
    "    ret = []\n",
    "    # 遍历所有数组，如果与[众数]相同则将值添加到列表(因为有多个众数的情况s)\n",
    "    for point in counter.most_common():\n",
    "        if point[1] == count:\n",
    "            ret.append(point[0])\n",
    "        else:\n",
    "            break # 顺序由大到小排列，没有与[众数]相等的数则可以退出循环\n",
    "    return ret,count\n"
   ]
  },
  {
   "cell_type": "code",
   "execution_count": 21,
   "metadata": {},
   "outputs": [
    {
     "name": "stdout",
     "output_type": "stream",
     "text": [
      "[2]\n",
      "4\n"
     ]
    }
   ],
   "source": [
    "# 测试众数\n",
    "mode_elements,mode_count = mode(data) # 值与频数\n",
    "\n",
    "\n",
    "# 判断None的情况，为None则是False\n",
    "if mode_elements:\n",
    "    print(mode_elements)\n",
    "    print(mode_count)\n",
    "else:\n",
    "    print(\"Mode dose not exist.\")"
   ]
  },
  {
   "cell_type": "code",
   "execution_count": 8,
   "metadata": {},
   "outputs": [],
   "source": [
    "# 创建[中位数]函数\n",
    "def median(data):\n",
    "    sorted_data = sorted(data) # 对数据进行排序\n",
    "    n = len(sorted_data)\n",
    "    \n",
    "    if n % 2 == 1:\n",
    "        return sorted_data[n//2]  # // 为整数除法，只取整数\n",
    "    else:\n",
    "        return (sorted_data[n//2 - 1] + sorted_data[n//2]) / 2 "
   ]
  },
  {
   "cell_type": "code",
   "execution_count": 29,
   "metadata": {},
   "outputs": [
    {
     "name": "stdout",
     "output_type": "stream",
     "text": [
      "1\n"
     ]
    }
   ],
   "source": [
    "# 测试中位数\n",
    "median_data = median(data)\n",
    "print(median_data)"
   ]
  },
  {
   "cell_type": "code",
   "execution_count": 17,
   "metadata": {},
   "outputs": [],
   "source": [
    "# 创建[均值]函数\n",
    "def mean(data):\n",
    "    return sum(data) / len(data)\n"
   ]
  },
  {
   "cell_type": "code",
   "execution_count": 18,
   "metadata": {},
   "outputs": [
    {
     "name": "stdout",
     "output_type": "stream",
     "text": [
      "1.2222222222222223\n"
     ]
    }
   ],
   "source": [
    "# 测试均值\n",
    "mean_data = mean(data)\n",
    "print(mean_data)"
   ]
  },
  {
   "cell_type": "code",
   "execution_count": 2,
   "metadata": {},
   "outputs": [],
   "source": [
    "# 创建[极差]函数\n",
    "def rng(data):\n",
    "    return max(data) - min(data)\n"
   ]
  },
  {
   "cell_type": "code",
   "execution_count": 6,
   "metadata": {},
   "outputs": [
    {
     "name": "stdout",
     "output_type": "stream",
     "text": [
      "2\n"
     ]
    }
   ],
   "source": [
    "# 测试极差\n",
    "print(rng(data))"
   ]
  },
  {
   "cell_type": "code",
   "execution_count": 7,
   "metadata": {},
   "outputs": [],
   "source": [
    "# 创建[四分位数]函数\n",
    "def quartitle(data):\n",
    "    n = len(data)\n",
    "    Q1,Q2,Q3 = None,None,None\n",
    "    \n",
    "    if n >= 4:\n",
    "        sorted_data = sorted(data) # 对数据进行排序\n",
    "        Q2 = median(sorted_data) # 使用[中位数]函数\n",
    "        \n",
    "        if n % 2 == 1:\n",
    "            Q1 = median(sorted_data[: n // 2])\n",
    "            Q3 = median(sorted_data[n // 2 + 1:])\n",
    "        else:\n",
    "            Q1 = median(sorted_data[:n // 2])\n",
    "            Q3 = median(sorted_data[n // 2:])\n",
    "    return Q1,Q2,Q3\n"
   ]
  },
  {
   "cell_type": "code",
   "execution_count": 11,
   "metadata": {},
   "outputs": [
    {
     "name": "stdout",
     "output_type": "stream",
     "text": [
      "(0.5, 1, 2.0)\n"
     ]
    }
   ],
   "source": [
    "# 测试四分位数\n",
    "print(quartitle(data))"
   ]
  },
  {
   "cell_type": "code",
   "execution_count": 13,
   "metadata": {},
   "outputs": [],
   "source": [
    "# 创建[方差]函数\n",
    "def variance(data):\n",
    "    n = len(data)\n",
    "    \n",
    "    if n <= 1:\n",
    "        return None\n",
    "    \n",
    "    mean_value = mean(data)\n",
    "    return sum((e - mean_value) ** 2 for e in data) / (n - 1)\n",
    "        "
   ]
  },
  {
   "cell_type": "code",
   "execution_count": 20,
   "metadata": {},
   "outputs": [
    {
     "name": "stdout",
     "output_type": "stream",
     "text": [
      "0.6944444444444445\n"
     ]
    }
   ],
   "source": [
    "# 测试方差\n",
    "print(variance(data))"
   ]
  },
  {
   "cell_type": "code",
   "execution_count": 23,
   "metadata": {},
   "outputs": [],
   "source": [
    "# 创建[标准差]函数\n",
    "def std(data):\n",
    "    return sqrt(variance(data))"
   ]
  },
  {
   "cell_type": "code",
   "execution_count": 25,
   "metadata": {},
   "outputs": [
    {
     "name": "stdout",
     "output_type": "stream",
     "text": [
      "0.8333333333333334\n"
     ]
    }
   ],
   "source": [
    "# 测试标准差\n",
    "print(std(data))"
   ]
  },
  {
   "cell_type": "code",
   "execution_count": 33,
   "metadata": {},
   "outputs": [
    {
     "data": {
      "image/png": "[encoded data removed]",
      "text/plain": [
       "<Figure size 432x288 with 1 Axes>"
      ]
     },
     "metadata": {
      "needs_background": "light"
     },
     "output_type": "display_data"
    },
    {
     "data": {
      "image/png": "[encoded data removed]",
      "text/plain": [
       "<Figure size 432x288 with 1 Axes>"
      ]
     },
     "metadata": {
      "needs_background": "light"
     },
     "output_type": "display_data"
    }
   ],
   "source": [
    "import matplotlib.pyplot as plt\n",
    "import random\n",
    "\n",
    "# scatter plot\n",
    "random.seed(666)\n",
    "x = [random.randint(0,100) for _ in range(100)]\n",
    "y = [random.randint(0,100) for _ in range(100)]\n",
    "\n",
    "plt.scatter(x,y)\n",
    "plt.show()\n",
    "\n",
    "# line plot\n",
    "x2 = [random.randint(0,100) for _ in range(100)]\n",
    "\n",
    "plt.plot([i for i in range(100)],x)\n",
    "plt.show()"
   ]
  },
  {
   "cell_type": "code",
   "execution_count": 35,
   "metadata": {},
   "outputs": [
    {
     "data": {
      "image/png": "[encoded data removed]",
      "text/plain": [
       "<Figure size 432x288 with 1 Axes>"
      ]
     },
     "metadata": {
      "needs_background": "light"
     },
     "output_type": "display_data"
    }
   ],
   "source": [
    "# bar plot\n",
    "counter = Counter(data)\n",
    "x = [point[0] for point in counter.most_common()]\n",
    "y = [point[1] for point in counter.most_common()]\n",
    "\n",
    "plt.bar(x,y)\n",
    "plt.show()"
   ]
  },
  {
   "cell_type": "code",
   "execution_count": 47,
   "metadata": {},
   "outputs": [
    {
     "data": {
      "image/png": "[encoded data removed]",
      "text/plain": [
       "<Figure size 432x288 with 1 Axes>"
      ]
     },
     "metadata": {
      "needs_background": "light"
     },
     "output_type": "display_data"
    }
   ],
   "source": [
    "# histogram\n",
    "plt.hist(data,rwidth = 0.8,bins = 5,density = True)\n",
    "plt.show()"
   ]
  }
 ],
 "metadata": {
  "kernelspec": {
   "display_name": "Python 3",
   "language": "python",
   "name": "python3"
  },
  "language_info": {
   "codemirror_mode": {
    "name": "ipython",
    "version": 3
   },
   "file_extension": ".py",
   "mimetype": "text/x-python",
   "name": "python",
   "nbconvert_exporter": "python",
   "pygments_lexer": "ipython3",
   "version": "3.7.6"
  }
 },
 "nbformat": 4,
 "nbformat_minor": 4
}
